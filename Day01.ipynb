{
  "nbformat": 4,
  "nbformat_minor": 0,
  "metadata": {
    "colab": {
      "provenance": [],
      "toc_visible": true,
      "authorship_tag": "ABX9TyMlviODBYMLw5H4/HQ4BhaY",
      "include_colab_link": true
    },
    "kernelspec": {
      "name": "python3",
      "display_name": "Python 3"
    },
    "language_info": {
      "name": "python"
    }
  },
  "cells": [
    {
      "cell_type": "markdown",
      "metadata": {
        "id": "view-in-github",
        "colab_type": "text"
      },
      "source": [
        "<a href=\"https://colab.research.google.com/github/itz-mahekbhartiya/LocalRepo/blob/main/Day01.ipynb\" target=\"_parent\"><img src=\"https://colab.research.google.com/assets/colab-badge.svg\" alt=\"Open In Colab\"/></a>"
      ]
    },
    {
      "cell_type": "code",
      "execution_count": 2,
      "metadata": {
        "id": "sn5qmvDGkP3D"
      },
      "outputs": [],
      "source": [
        "cars = {\n",
        "\n",
        "\"brand\": \"Mahindra\",\n",
        "\n",
        "\"model\": \"Thar\",\n",
        "\n",
        "\"year\": 2010\n",
        "\n",
        "}"
      ]
    },
    {
      "cell_type": "code",
      "source": [
        "print(cars[\"brand\"])\n",
        "print(cars[\"model\"])\n",
        "print(cars[\"year\"])\n"
      ],
      "metadata": {
        "colab": {
          "base_uri": "https://localhost:8080/"
        },
        "id": "3OqktRoKlb3n",
        "outputId": "d977ba51-7103-4d9c-ae0f-e901b430045e"
      },
      "execution_count": 8,
      "outputs": [
        {
          "output_type": "stream",
          "name": "stdout",
          "text": [
            "Mahindra\n",
            "Thar\n",
            "2010\n"
          ]
        }
      ]
    },
    {
      "cell_type": "code",
      "source": [
        "for ele in cars:\n",
        "  print(cars[ele])"
      ],
      "metadata": {
        "colab": {
          "base_uri": "https://localhost:8080/"
        },
        "id": "czfKNd7lm3tN",
        "outputId": "c77a225d-19b2-41c0-b4fe-2cb315f0ef7a"
      },
      "execution_count": 9,
      "outputs": [
        {
          "output_type": "stream",
          "name": "stdout",
          "text": [
            "Mahindra\n",
            "Thar\n",
            "2010\n"
          ]
        }
      ]
    },
    {
      "cell_type": "code",
      "source": [
        "cars.keys()\n",
        "cars.values()\n",
        "cars.items()"
      ],
      "metadata": {
        "colab": {
          "base_uri": "https://localhost:8080/"
        },
        "id": "UuqKCazxnUsF",
        "outputId": "26a16ff2-2cfb-4010-95d0-1236474d5fd6"
      },
      "execution_count": 14,
      "outputs": [
        {
          "output_type": "execute_result",
          "data": {
            "text/plain": [
              "dict_items([('brand', 'Mahindra'), ('model', 'Thar'), ('year', 2010)])"
            ]
          },
          "metadata": {},
          "execution_count": 14
        }
      ]
    },
    {
      "cell_type": "code",
      "source": [
        "cars.update({\"color\":\"Pink\"})\n",
        "cars"
      ],
      "metadata": {
        "colab": {
          "base_uri": "https://localhost:8080/"
        },
        "id": "0m7iY6vlnFYq",
        "outputId": "94049839-0bec-45aa-9fcb-0e4cb06bb0c7"
      },
      "execution_count": 22,
      "outputs": [
        {
          "output_type": "execute_result",
          "data": {
            "text/plain": [
              "{'brand': 'Mahindra', 'model': 'Thar', 'year': 2010, 'color': 'Pink'}"
            ]
          },
          "metadata": {},
          "execution_count": 22
        }
      ]
    },
    {
      "cell_type": "code",
      "source": [
        "cars[\"color\"]=\"Black\"\n",
        "cars"
      ],
      "metadata": {
        "colab": {
          "base_uri": "https://localhost:8080/"
        },
        "id": "WIqUvfrTpJGs",
        "outputId": "3f7cf6f6-f960-460e-8071-d3fdbc03e9ee"
      },
      "execution_count": 21,
      "outputs": [
        {
          "output_type": "execute_result",
          "data": {
            "text/plain": [
              "{'brand': 'Mahindra', 'model': 'Thar', 'year': 2010, 'color': 'Black'}"
            ]
          },
          "metadata": {},
          "execution_count": 21
        }
      ]
    },
    {
      "cell_type": "code",
      "source": [
        "fruits=['apple','banana','cherry']\n",
        "fruits.append(\"kiwi\")\n",
        "fruits.pop()\n",
        "fruits.remove(\"banana\")"
      ],
      "metadata": {
        "colab": {
          "base_uri": "https://localhost:8080/"
        },
        "id": "OvgHLX4Dp0Ab",
        "outputId": "de1320ce-ef1f-417f-c8c1-fdedab98dc50"
      },
      "execution_count": 27,
      "outputs": [
        {
          "output_type": "stream",
          "name": "stdout",
          "text": [
            "None\n"
          ]
        }
      ]
    },
    {
      "cell_type": "code",
      "source": [
        "name=\"  Shivaji Maharaj\"\n",
        "len(name)\n",
        "name.split()\n",
        "name02=\"  Shivaji Maharaj\"\n",
        "name02.lstrip()\n",
        "name03=\"Shivaji Maharaj   \"\n",
        "name03.rstrip()\n",
        "name03.strip()"
      ],
      "metadata": {
        "colab": {
          "base_uri": "https://localhost:8080/"
        },
        "id": "9G7CXBWLrama",
        "outputId": "169571ca-e4af-4a59-912a-a4394c07f406"
      },
      "execution_count": 40,
      "outputs": [
        {
          "output_type": "stream",
          "name": "stdout",
          "text": [
            "Shivaji Maharaj   \n"
          ]
        }
      ]
    },
    {
      "cell_type": "code",
      "source": [
        "name=\"Mahek\"\n",
        "course=\"Code unnati program 2.0\"\n",
        "print(f\"Hello , My name is {name} and I registered for {course}\")"
      ],
      "metadata": {
        "colab": {
          "base_uri": "https://localhost:8080/"
        },
        "id": "SdQ0GLcGs7H0",
        "outputId": "d86f3129-6c17-4537-c72f-bef6ddb04d13"
      },
      "execution_count": 39,
      "outputs": [
        {
          "output_type": "stream",
          "name": "stdout",
          "text": [
            "Hello , My name is Mahek and I registered for Code unnati program 2.0\n"
          ]
        }
      ]
    },
    {
      "cell_type": "code",
      "source": [
        "str1=\"FACE\"\n",
        "str1[0:3:2]"
      ],
      "metadata": {
        "colab": {
          "base_uri": "https://localhost:8080/",
          "height": 36
        },
        "id": "9yqIRtc0vebr",
        "outputId": "aec8ddd0-cb13-4df3-aa2f-5c270441ae39"
      },
      "execution_count": 50,
      "outputs": [
        {
          "output_type": "execute_result",
          "data": {
            "text/plain": [
              "'FC'"
            ],
            "application/vnd.google.colaboratory.intrinsic+json": {
              "type": "string"
            }
          },
          "metadata": {},
          "execution_count": 50
        }
      ]
    },
    {
      "cell_type": "code",
      "source": [
        "sorted(cars)"
      ],
      "metadata": {
        "colab": {
          "base_uri": "https://localhost:8080/"
        },
        "id": "pIK2qXdNxgZN",
        "outputId": "a257bb2f-80b2-43f4-b976-58513b0eb25b"
      },
      "execution_count": 53,
      "outputs": [
        {
          "output_type": "execute_result",
          "data": {
            "text/plain": [
              "['brand', 'color', 'model', 'year']"
            ]
          },
          "metadata": {},
          "execution_count": 53
        }
      ]
    }
  ]
}